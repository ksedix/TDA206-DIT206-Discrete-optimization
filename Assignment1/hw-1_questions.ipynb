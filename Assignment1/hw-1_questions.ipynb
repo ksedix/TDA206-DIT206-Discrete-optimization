{
 "cells": [
  {
   "cell_type": "markdown",
   "metadata": {},
   "source": [
    "\n",
    "$\\qquad$ $\\qquad$$\\qquad$  **TDA206/DIT206 Discrete Optimization: Assignment 1 -- Modelling and Solving LPs** <br />\n",
    "$\\qquad$ $\\qquad$$\\qquad$                   **Grader: N/A** <br />\n",
    "$\\qquad$ $\\qquad$$\\qquad$                     **Due Date: 23rd January** <br />\n",
    "$\\qquad$ $\\qquad$$\\qquad$                   **Submitted by: Name, Personal No., Email** <br />\n",
    "\n",
    "\n",
    "---\n",
    "\n",
    "\n",
    "General guidelines:\n",
    "*   All solutions to theoretical and pratical problems must be submitted in this ipynb notebook, and equations wherever required, should be formatted using LaTeX math-mode.\n",
    "*   All discussion regarding practical problems, along with solutions and plots should be specified in this notebook. All plots/results should be visible such that the notebook do not have to be run. But the code in the notebook should reproduce the plots/results if we choose to do so.\n",
    "*   Your name, personal number and email address should be specified above.\n",
    "*   All tables and other additional information should be included in this notebook.\n",
    "*   Before submitting, make sure that your Jupyter notebook run on another computer. That all plots can show on another computer including all your writing. It is good to check if your code can run here: https://colab.research.google.com.\n"
   ]
  },
  {
   "cell_type": "markdown",
   "metadata": {},
   "source": [
    "# Problem 1.\n",
    "\n",
    "Consider the following LP problem:\n",
    "\n",
    "\n",
    "\\begin{array}\n",
    "\\mathcal{max}\\quad 4x_1-2x_2+5x_3+6x_4+7x_5\\\\\n",
    "\\textrm{s.t} \\\\\n",
    "2x_1 + 2x_2 - 4x_3 + 4x_4 + 8x_5 \\leq 6\\\\\n",
    "2x_1 + x_2 - 2x_3 - x_4 - 3x_5 \\geq -1\\\\\n",
    "5x_1 - 2x_2 + 4x_3 + 4x_4 + 2x_5 = 5\\\\\n",
    "2x_1 - 2x_2 + 5x_3 + 3x_4 + x_5 \\leq 4\\\\\n",
    "\\vec x \\geq \\vec 0\n",
    "\\end{array}\n",
    "\n",
    "* Use CVXPY to solve the LP above. Submit your code, and print the solution vector and objective value."
   ]
  },
  {
   "cell_type": "markdown",
   "metadata": {},
   "source": [
    "# Problem 2.\n",
    "\n",
    "There are 4 space colonies, each of which  requires a certain number of plasma conduits. There are 3 starbases in the vicinity. Each of them has total number of conduits they can spare and supply to the colonies. For each pair of starbase and colony, there is an associated cost for sending a cargo ship  (each of which carries one plasma conduit), as shown in the table below:\n",
    "\n",
    "\n",
    "\\begin{array}{l|c|c|c|c|c} \n",
    "      & Triacus & New Berlin  & Strnad  & Vega  & supply\\\\ \\hline\n",
    " Farpoint &   6 &  9 & 10 & 8 & 35\\\\\n",
    " Yorktown &  9 & 5 & 16 & 14 & 40\\\\\n",
    " Earhart & 12 &  7 & 13 & 9 & 50\\\\ \\hline\n",
    "    demand & 20 &30&30&45& \\left(\\sum=125\\right) \\\\ \n",
    "\\end{array}\n",
    "\n",
    "Your goal is to supply the colonies the plasma conduits they need, at minimum cost.\n",
    "\n",
    "\n",
    "* Consider the general *transportation problem*: where there are $\\bf{n}$ colonies and $\\bf{m}$ bases and the costs are given by a $\\bf{m} \\times \\bf{n}$ matrix $\\mathcal{C}$, demand and supply are given by arrays $\\bf{d}$ and $\\bf{s}$ respectively. Formulate a LP to solve the problem.\n",
    "\n",
    "* Code the LP in CVXPY, input the data for the space colonies manually and use CVXPY to solve the LP. Submit your code and write down the solution and objective.\n",
    "\n",
    "* Use CVXPY to show what  the  effect  on the model and the optimal solution would be if each of the starbases could supply five more conduits."
   ]
  },
  {
   "cell_type": "markdown",
   "metadata": {},
   "source": [
    "# Question 3.\n",
    "Use CVXPY to model and solve the other examples in the textbook (sections 2.1 -- 2.6)."
   ]
  }
 ],
 "metadata": {
  "kernelspec": {
   "display_name": "Python 3",
   "language": "python",
   "name": "python3"
  },
  "language_info": {
   "codemirror_mode": {
    "name": "ipython",
    "version": 3
   },
   "file_extension": ".py",
   "mimetype": "text/x-python",
   "name": "python",
   "nbconvert_exporter": "python",
   "pygments_lexer": "ipython3",
   "version": "3.8.2"
  }
 },
 "nbformat": 4,
 "nbformat_minor": 2
}
