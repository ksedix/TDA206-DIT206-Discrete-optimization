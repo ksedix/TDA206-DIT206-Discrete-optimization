{
 "cells": [
  {
   "cell_type": "markdown",
   "metadata": {
    "colab_type": "text",
    "id": "9BpU0PTotQH_"
   },
   "source": [
    "\n",
    "$\\qquad$ $\\qquad$$\\qquad$  **TDA206/DIT206 Discrete Optimization: Assignment 4 -- SDP and Maxcut** <br />\n",
    "$\\qquad$ $\\qquad$$\\qquad$                   **Grader: David Bosch** <br />\n",
    "$\\qquad$ $\\qquad$$\\qquad$                     **Due Date: 4th March** <br />\n",
    "$\\qquad$ $\\qquad$$\\qquad$                   **Submitted by: Name, Personal No., Email** <br />\n",
    "\n",
    "\n",
    "---\n",
    "\n",
    "\n",
    "General guidelines:\n",
    "*   All solutions to theoretical and pratical problems must be submitted in this ipynb notebook, and equations wherever required, should be formatted using LaTeX math-mode.\n",
    "*   All discussion regarding practical problems, along with solutions and plots should be specified in this notebook. All plots/results should be visible such that the notebook do not have to be run. But the code in the notebook should reproduce the plots/results if we choose to do so.\n",
    "*   Your name, personal number and email address should be specified above.\n",
    "*   All tables and other additional information should be included in this notebook.\n",
    "*   Before submitting, make sure that your code can run on another computer. That all plots can show on another computer including all your writing. It is good to check if your code can run here: https://colab.research.google.com.\n"
   ]
  },
  {
   "cell_type": "markdown",
   "metadata": {
    "colab_type": "text",
    "id": "b2Ga2PmEtQIA"
   },
   "source": [
    "# Question 1. [14 pts]\n",
    "\n",
    "Consider the triangle graph i.e, three vertices all connected pairwise (unweighted, so each edge has weight $1$).\n",
    "\n",
    "* a. Write the $+1/-1$ labelling corresponding to a maximum cut and give the value of the cut. [3 pts]\n",
    "* b. Write the SDP relaxation of the MAXCUT problem for this specific graph: write the program explicitly without using summation signs, with the variables corresponding to a $3 \\times 3$ matrix, $X_{1,1,}, X_{1,2}, \\cdots$. [2 pts]\n",
    "* c. Solve the SDP by manual calculation (not using a SDP solver). (HINT: Use symmetry and then argue about when the matrix with $1$ as diagonal elements and $\\alpha$ in other positions is psd.) [3 pts]\n",
    "* d. Produce the vector labelling corresponding to the optimal solution of the SDP in (c). (HINT: for what angle is $\\cos \\theta = -1/2$?) [3 pts]\n",
    "* e. What is the expected value of the cut produced by rounding using the vector labels and a random hyperlane? Give a short justification. [3 pts]\n"
   ]
  },
  {
   "cell_type": "markdown",
   "metadata": {
    "colab_type": "text",
    "id": "xFec7wzqtQIB"
   },
   "source": [
    "# Question 2. [6 pts]\n",
    "\n",
    "\n",
    "* a. Implement the SDP relaxation for MAXCUT in CVXPY (https://www.cvxpy.org), see (https://www.cvxpy.org/examples/basic/sdp.html). [2 pts]\n",
    "* b. Solve the SDP in the previous problem using (a). [1 pts]\n",
    "* c. Solve the SDP and give the MAXCUT value for the random graph 'graph.txt' in homework-2. [1 pts]\n",
    "* d. Solve the SDP and give the MAXCUT value for the planted partition graph 'G' given below. Give the approximation ratio. [2 pts]"
   ]
  },
  {
   "cell_type": "code",
   "execution_count": 9,
   "metadata": {
    "collapsed": true
   },
   "outputs": [],
   "source": [
    "#'G' is given as an adjaceny matrix\n",
    "adj_mat = [[   0.  , 2., 1000.  ,  2. , 1000.  ,  2.  ,  2. ,1000.  ,  2.  ,  2.],\n",
    " [ 2.  ,  0. ,1000.  ,  2., 1000.  ,  2.  ,  2. ,1000.  ,  2.  ,  2.],\n",
    " [1000. , 1000.  ,  0. ,1000. ,   2. ,1000., 1000. ,   2. ,1000., 1000.],\n",
    " [   2.  ,  2. ,1000.  ,  0. ,1000.  ,  2. ,   2., 1000.  ,  2.  ,  2.],\n",
    " [1000., 1000.  ,  2. ,1000. ,   0., 1000. ,1000.  ,  2. ,1000. ,1000.],\n",
    " [   2.  ,  2., 1000.  ,  2., 1000. ,   0. ,   2., 1000. ,   2. ,   2.],\n",
    " [   2.  ,  2. ,1000.  ,  2. ,1000. ,   2. ,   0., 1000. ,   2. ,   2.],\n",
    " [1000.  ,1000.,    2. ,1000.,    2., 1000., 1000.,    0., 1000., 1000.],\n",
    " [   2. ,   2. ,1000. ,   2. ,1000. ,   2. ,   2., 1000.,    0.,    2.],\n",
    " [   2. ,   2. ,1000. ,   2. ,1000. ,   2. ,   2., 1000.,    2.,    0.]]\n",
    "\n"
   ]
  },
  {
   "cell_type": "markdown",
   "metadata": {},
   "source": [
    "### Steps for implementing SDP for Maxcut\n",
    "\n",
    "#### Formulate the Maxcut problem as SDP (recall lecture or refer to reference book [GM] in syllabus section)\n",
    "\n",
    "####  Once you obtain 'X' (the solution positive-semi-definite matrix from SDP, you may use Cholesky decomposition to get the solution unit-vectors, stacked as column vectors in 'U')\n",
    "\n",
    "```python\n",
    "Xnew = X.value\n",
    "eigs = np.linalg.eigh(Xnew)[0]\n",
    "if np.min(eigs) < 0:\n",
    "  Xnew = Xnew + (1.00001 * abs(min(eigs)) * np.identity(n_nodes))\n",
    "elif np.min(eigs) == 0:\n",
    "  Xnew = Xnew + 0.0000001 * np.identity(n_nodes)\n",
    "U = np.linalg.cholesky(Xnew).T\n",
    "```\n",
    "\n",
    "#### Round the unit-vectors to appropriate partition as explained in [GM] or class."
   ]
  }
 ],
 "metadata": {
  "colab": {
   "collapsed_sections": [],
   "name": "hw2020-2.ipynb",
   "provenance": []
  },
  "kernelspec": {
   "display_name": "Python 3",
   "language": "python",
   "name": "python3"
  },
  "language_info": {
   "codemirror_mode": {
    "name": "ipython",
    "version": 3
   },
   "file_extension": ".py",
   "mimetype": "text/x-python",
   "name": "python",
   "nbconvert_exporter": "python",
   "pygments_lexer": "ipython3",
   "version": "3.8.2"
  }
 },
 "nbformat": 4,
 "nbformat_minor": 1
}
