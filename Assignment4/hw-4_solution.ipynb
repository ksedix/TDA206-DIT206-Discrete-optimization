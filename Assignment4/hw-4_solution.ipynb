{
 "cells": [
  {
   "cell_type": "markdown",
   "metadata": {
    "colab_type": "text",
    "id": "9BpU0PTotQH_"
   },
   "source": [
    "\n",
    "$\\qquad$ $\\qquad$$\\qquad$  **TDA206/DIT206 Discrete Optimization: Assignment 4 -- SDP and Maxcut** <br />\n",
    "$\\qquad$ $\\qquad$$\\qquad$                   **Grader: David Bosch** <br />\n",
    "$\\qquad$ $\\qquad$$\\qquad$                     **Due Date: 4th March** <br />\n",
    "$\\qquad$ $\\qquad$$\\qquad$                   **Submitted by: Mirco Ghadri, 010421-1693, mircog@chalmers.se** <br />\n",
    "\n",
    "\n",
    "---\n",
    "\n",
    "\n",
    "General guidelines:\n",
    "*   All solutions to theoretical and pratical problems must be submitted in this ipynb notebook, and equations wherever required, should be formatted using LaTeX math-mode.\n",
    "*   All discussion regarding practical problems, along with solutions and plots should be specified in this notebook. All plots/results should be visible such that the notebook do not have to be run. But the code in the notebook should reproduce the plots/results if we choose to do so.\n",
    "*   Your name, personal number and email address should be specified above.\n",
    "*   All tables and other additional information should be included in this notebook.\n",
    "*   Before submitting, make sure that your code can run on another computer. That all plots can show on another computer including all your writing. It is good to check if your code can run here: https://colab.research.google.com.\n"
   ]
  },
  {
   "cell_type": "markdown",
   "metadata": {
    "colab_type": "text",
    "id": "b2Ga2PmEtQIA"
   },
   "source": [
    "# Question 1. [14 pts]\n",
    "\n",
    "Consider the triangle graph i.e, three vertices all connected pairwise (unweighted, so each edge has weight $1$).\n",
    "\n",
    "* a. Write the $+1/-1$ labelling corresponding to a maximum cut and give the value of the cut. [3 pts]\n",
    "* b. Write the SDP relaxation of the MAXCUT problem for this specific graph: write the program explicitly without using summation signs, with the variables corresponding to a $3 \\times 3$ matrix, $X_{1,1,}, X_{1,2}, \\cdots$. [2 pts]\n",
    "* c. Solve the SDP by manual calculation (not using a SDP solver). (HINT: Use symmetry and then argue about when the matrix with $1$ as diagonal elements and $\\alpha$ in other positions is psd.) [3 pts]\n",
    "* d. Produce the vector labelling corresponding to the optimal solution of the SDP in (c). (HINT: for what angle is $\\cos \\theta = -1/2$?) [3 pts]\n",
    "* e. What is the expected value of the cut produced by rounding using the vector labels and a random hyperlane? Give a short justification. [3 pts]\n"
   ]
  },
  {
   "cell_type": "markdown",
   "metadata": {},
   "source": [
    "**a)** If we have a triangle graph where each pair of vertices is connected to each other, we can call the vertices $v_1$, $v_2$, $v_3$. We can say that $z_1=1$, $z_2=-1$ and $z_3=-1$. This means that the vertices are partitioned into 2 sets and Vertex 1 belongs to $S$ and vertex 2 and 3 belong to $V\\setminus S$. We can then formulate the sdp as:\n",
    "$$\n",
    "\\sum_{(i,j) \\in E} \\frac{1 - z_i z_j}{2} \\quad \\text{subject to} \\quad z_i \\in \\{-1, 1\\}\n",
    "$$\n",
    "The value of the cut is 2, since there are 2 edges that go between the 2 sets in the partition. In fact, no matter how we partition the vertices in the triangle graph into 2 sets, the value of the cut will be 2. So 2 is the value of the maximum as well as the minimum cut in the triangle graph."
   ]
  },
  {
   "cell_type": "markdown",
   "metadata": {},
   "source": [
    "**b)** The SDP relaxation refers to using vector variables $x_{ij}=u_i^T u_j$ instead of scalar variables $z_i$. The only constraint is that $x_{ii}=1$ which means that the vector variables $u_i$ are unit vectors, since only unit vector multiplied by itself is 1. The SDP relaxation is written as:\n",
    "\\begin{align*}\r\n",
    "& \\text{Maximize} \\quad \\frac{1}{2} \\sum_{(i,j) \\in E} (1 - x_{ij}) \\\\\r\n",
    "& \\text{Subject to} \\\\\r\n",
    "& \\quad X \\succeq 0 \\\\\r\n",
    "& \\quad x_{ii} = 1 \\quad \\text{for all} \\quad i\r\n",
    "\\end{align*}"
   ]
  },
  {
   "cell_type": "markdown",
   "metadata": {
    "colab_type": "text",
    "id": "xFec7wzqtQIB"
   },
   "source": [
    "# Question 2. [6 pts]\n",
    "\n",
    "\n",
    "* a. Implement the SDP relaxation for MAXCUT in CVXPY (https://www.cvxpy.org), see (https://www.cvxpy.org/examples/basic/sdp.html). [2 pts]\n",
    "* b. Solve the SDP in the previous problem using (a). [1 pts]\n",
    "* c. Solve the SDP and give the MAXCUT value for the random graph 'graph.txt' in homework-2. [1 pts]\n",
    "* d. Solve the SDP and give the MAXCUT value for the planted partition graph 'G' given below. Give the approximation ratio. [2 pts]"
   ]
  },
  {
   "cell_type": "code",
   "execution_count": 9,
   "metadata": {
    "collapsed": true,
    "jupyter": {
     "outputs_hidden": true
    }
   },
   "outputs": [],
   "source": [
    "#'G' is given as an adjaceny matrix\n",
    "adj_mat = [[   0.  , 2., 1000.  ,  2. , 1000.  ,  2.  ,  2. ,1000.  ,  2.  ,  2.],\n",
    " [ 2.  ,  0. ,1000.  ,  2., 1000.  ,  2.  ,  2. ,1000.  ,  2.  ,  2.],\n",
    " [1000. , 1000.  ,  0. ,1000. ,   2. ,1000., 1000. ,   2. ,1000., 1000.],\n",
    " [   2.  ,  2. ,1000.  ,  0. ,1000.  ,  2. ,   2., 1000.  ,  2.  ,  2.],\n",
    " [1000., 1000.  ,  2. ,1000. ,   0., 1000. ,1000.  ,  2. ,1000. ,1000.],\n",
    " [   2.  ,  2., 1000.  ,  2., 1000. ,   0. ,   2., 1000. ,   2. ,   2.],\n",
    " [   2.  ,  2. ,1000.  ,  2. ,1000. ,   2. ,   0., 1000. ,   2. ,   2.],\n",
    " [1000.  ,1000.,    2. ,1000.,    2., 1000., 1000.,    0., 1000., 1000.],\n",
    " [   2. ,   2. ,1000. ,   2. ,1000. ,   2. ,   2., 1000.,    0.,    2.],\n",
    " [   2. ,   2. ,1000. ,   2. ,1000. ,   2. ,   2., 1000.,    2.,    0.]]\n",
    "\n"
   ]
  },
  {
   "cell_type": "markdown",
   "metadata": {},
   "source": [
    "### Steps for implementing SDP for Maxcut\n",
    "\n",
    "#### Formulate the Maxcut problem as SDP (recall lecture or refer to reference book [GM] in syllabus section)\n",
    "\n",
    "####  Once you obtain 'X' (the solution positive-semi-definite matrix from SDP, you may use Cholesky decomposition to get the solution unit-vectors, stacked as column vectors in 'U')\n",
    "\n",
    "```python\n",
    "Xnew = X.value\n",
    "eigs = np.linalg.eigh(Xnew)[0]\n",
    "if np.min(eigs) < 0:\n",
    "  Xnew = Xnew + (1.00001 * abs(min(eigs)) * np.identity(n_nodes))\n",
    "elif np.min(eigs) == 0:\n",
    "  Xnew = Xnew + 0.0000001 * np.identity(n_nodes)\n",
    "U = np.linalg.cholesky(Xnew).T\n",
    "```\n",
    "\n",
    "#### Round the unit-vectors to appropriate partition as explained in [GM] or class."
   ]
  }
 ],
 "metadata": {
  "colab": {
   "collapsed_sections": [],
   "name": "hw2020-2.ipynb",
   "provenance": []
  },
  "kernelspec": {
   "display_name": "Python 3 (ipykernel)",
   "language": "python",
   "name": "python3"
  },
  "language_info": {
   "codemirror_mode": {
    "name": "ipython",
    "version": 3
   },
   "file_extension": ".py",
   "mimetype": "text/x-python",
   "name": "python",
   "nbconvert_exporter": "python",
   "pygments_lexer": "ipython3",
   "version": "3.9.18"
  }
 },
 "nbformat": 4,
 "nbformat_minor": 4
}
