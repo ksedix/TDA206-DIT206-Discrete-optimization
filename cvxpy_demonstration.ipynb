{
 "cells": [
  {
   "cell_type": "markdown",
   "id": "8f2706bc",
   "metadata": {},
   "source": [
    "In linear programming we want to solve an optimization problem with a linear ojective with affine inequality constraints. This type of problem is referred to as a linear program and can be written as follows:\n",
    "\n",
    "$$\n",
    "   \\begin{array}{ll}\n",
    "    \\mbox{minimize}   & c^Tx \\\\\n",
    "    \\mbox{subject to} & Ax \\leq b.\n",
    "    \\end{array}\n",
    "$$\n",
    "\n",
    "Where $A\\in \\mathbb{R}^{m\\times n}$, $b\\in  \\mathbb{R}^{m}$ and $c\\in  \\mathbb{R}^{n}$ are given parts of the problem. The goal is to find $x$ such that it satisfies the constraint(s) while also minimising the objective. $\\mathbf{Note:}$ the constraint here is element-wise, so the solution should satisfy $a_i^Tx\\leq b_i ~~\\forall i\\in\\{1,\\dots,m\\}$."
   ]
  },
  {
   "cell_type": "code",
   "execution_count": 3,
   "id": "d9ea92fa",
   "metadata": {},
   "outputs": [],
   "source": [
    "## import the packages\n",
    "import cvxpy as cp\n",
    "import numpy as np"
   ]
  },
  {
   "cell_type": "markdown",
   "id": "eb75ddfc",
   "metadata": {},
   "source": [
    "Now we will solve the above problem with the following choices of $A,b $ and $c$.\n",
    "\n",
    "$$\n",
    "   A=\n",
    "   \\left[ \\begin{array}{cc}\n",
    "    1   &2 \\\\\n",
    "    -4  &5 \\\\\n",
    "    0  &-8\n",
    "    \\end{array}\n",
    "    \\right] , \\quad    b=\n",
    "   \\left[ \\begin{array}{c}\n",
    "    1   \\\\\n",
    "    0   \\\\\n",
    "    4 \n",
    "    \\end{array}\n",
    "    \\right], \\quad    c=\n",
    "   \\left[ \\begin{array}{c}\n",
    "    8  \\\\\n",
    "    -6 \n",
    "    \\end{array}\n",
    "    \\right]\n",
    "$$\n"
   ]
  },
  {
   "cell_type": "code",
   "execution_count": 7,
   "id": "fdbf9626",
   "metadata": {},
   "outputs": [
    {
     "name": "stdout",
     "output_type": "stream",
     "text": [
      "\n",
      "The optimal value is -1.9999999996820614\n",
      "A solution x is\n",
      "[-0.625 -0.5  ]\n",
      "A dual solution is\n",
      "[5.72941513e-11 2.00000000e+00 5.00000000e-01]\n"
     ]
    }
   ],
   "source": [
    "## Here we will define the simple linear program and solve it with cvxpy\n",
    "\n",
    "A = np.array([[1,2],[-4,5],[0,-8]])\n",
    "b = np.array([1,0,4])\n",
    "c = np.array([8,-6])\n",
    "\n",
    "x=cp.Variable(2) # integer=True\n",
    "\n",
    "prob_simple=cp.Problem(cp.Minimize(c.T@x),[A@x<=b])\n",
    "\n",
    "prob_simple.solve()\n",
    "\n",
    "# Print result\n",
    "print(\"\\nThe optimal value is\", prob_simple.value)\n",
    "print(\"A solution x is\")\n",
    "print(x.value)\n",
    "print(\"A dual solution is\")\n",
    "print(prob_simple.constraints[0].dual_value)\n"
   ]
  },
  {
   "cell_type": "code",
   "execution_count": null,
   "id": "93c9fe26",
   "metadata": {},
   "outputs": [],
   "source": [
    "## We can also generate a more non-trivial problem\n",
    "n=3\n",
    "m=6\n",
    "\n",
    "np.random.seed(1) # set random generator for deterministic output/reproducibility\n",
    "\n",
    "# Generating some non-trivial problem data\n",
    "s0 = np.random.randn(m)\n",
    "lamb0 = np.maximum(-s0, 0)\n",
    "s0 = np.maximum(s0, 0)\n",
    "x0 = np.random.randn(n)\n",
    "A = np.random.randn(m, n)\n",
    "b = A@x0 + s0\n",
    "c = -A.T@lamb0\n",
    "\n",
    "\n",
    "print(\"A: \", A)\n",
    "print(\"b: \",b)\n",
    "print(\"c: \",c)\n",
    "\n",
    "\n",
    "# Here is the definition of the actual problem\n",
    "x=cp.Variable(n)\n",
    "\n",
    "prob = cp.Problem(cp.Minimize(c.T@x),\n",
    "                 [A@x <= b])\n",
    "prob.solve()\n",
    "\n",
    "# Print result.\n",
    "print(\"\\nThe optimal value is\", prob.value)\n",
    "print(\"A solution x is\")\n",
    "print(x.value)\n",
    "print(\"A dual solution is\")\n",
    "print(prob.constraints[0].dual_value)"
   ]
  },
  {
   "cell_type": "markdown",
   "id": "aeb45e15",
   "metadata": {},
   "source": [
    "# General information and guidelines for the assignments\n",
    "\n",
    "### - Form groups of 2 and hand in submissions on Canvas, assignment groups should be posted\n",
    "\n",
    "### - Submit a notebook, you can use the the one provided with the assignment if you wish\n",
    "\n",
    "### - If you want to use images, make sure they are included in the notebook you submit\n",
    "\n",
    "### - Answers to questions should be motivated\n",
    "\n",
    "### - Any mathematical argument should be correct and well reasoned. Remember to refer to theorems if you use them\n",
    "\n",
    "### - Commenting your code is good practice if done within reason\n",
    "\n",
    "### - There will be time set aside for you to ask questions about the assignments"
   ]
  },
  {
   "cell_type": "code",
   "execution_count": null,
   "id": "d8fcb42b",
   "metadata": {},
   "outputs": [],
   "source": []
  }
 ],
 "metadata": {
  "kernelspec": {
   "display_name": "Python 3 (ipykernel)",
   "language": "python",
   "name": "python3"
  },
  "language_info": {
   "codemirror_mode": {
    "name": "ipython",
    "version": 3
   },
   "file_extension": ".py",
   "mimetype": "text/x-python",
   "name": "python",
   "nbconvert_exporter": "python",
   "pygments_lexer": "ipython3",
   "version": "3.9.18"
  }
 },
 "nbformat": 4,
 "nbformat_minor": 5
}
